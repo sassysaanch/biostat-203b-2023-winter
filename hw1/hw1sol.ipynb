{
  "cells": [
    {
      "cell_type": "raw",
      "metadata": {},
      "source": [
        "---\n",
        "title: \"shah_saanchi_hw1\"\n",
        "author: Saanchi Shah\n",
        "UID: 204591578\n",
        "format: html\n",
        "editor: visual\n",
        "---"
      ],
      "id": "2e28c4cf"
    },
    {
      "cell_type": "markdown",
      "metadata": {},
      "source": [
        "# **Getting started**\n",
        "\n",
        "\n",
        "```{bash}\n",
        "sessionInfo()\n",
        "```\n",
        "\n",
        "\n",
        "**Q2. Data ethics training**\n",
        "\n",
        "1\\) This is a link to \\[CITI Certificate\\] (https://www.citiprogram.org/verify/?w1305913e-39b4-46d7-8c1c-3d368d0a2560-53778952)\n",
        "\n",
        "2)This is a link to \\[CITI Report\\] (https://citiprogram.org/verify/?kc4b3b566-f3cb-422e-8cbf-48e53713387c-53778952)"
      ],
      "id": "76fe8aff"
    }
  ],
  "metadata": {
    "kernelspec": {
      "display_name": "Python 3",
      "language": "python",
      "name": "python3"
    }
  },
  "nbformat": 4,
  "nbformat_minor": 5
}